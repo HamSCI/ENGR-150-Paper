{
 "cells": [
  {
   "cell_type": "markdown",
   "metadata": {},
   "source": [
    "# Tutorial to Python, Numpy, and Matplotlib\n",
    "\n",
    "## Background\n",
    "\n",
    "We are going to be using the [Python 3](https://www.python.org/) data analysis ecosystem for many of the projects and homework in this class. When you get good at Python, it becomes an indispensable tool. Python itself is a high-level, interpreted general-purpose programming language. It becomes useful for data analysis through add-on libraries such as [NumPy (Numerical Python)](https://numpy.org/), [matplotlib (a plotting and visualization library)](https://matplotlib.org/), and many others. [Anaconda](https://www.anaconda.com/products/individual) is a cross-platform (Windows, Mac, and Linux) distribution and software environment manager that includes almost all of the major data analysis tools that you will need. Python and its data analysis libraries are free and open source but can often provide the same capabilities as the commercial product MATLAB.\n",
    "\n",
    "There are many different ways to run python code. In this class, we are going to focus on using the [Jupyter Lab / Jupyter Notebook environment](https://jupyter.org/). This is what you are using right now. It provides a friendly, interactive interface to python while giving you the ability to add-in formatted notes and comments. This is done through markdown cells; you can get a basic syntax guide here: https://www.markdownguide.org/basic-syntax/. You can even write equations directly in the markdown cells with $\\LaTeX$. [See here for documentation on $\\LaTeX$ in Jupyter Notebooks.]( https://jupyter-notebook.readthedocs.io/en/stable/examples/Notebook/Working%20With%20Markdown%20Cells.html#LaTeX-equations)\n",
    "\n",
    "Jupyter Notebooks are ideal for prototyping of your own ideas and code, sharing ideas with others, and submitting homework. As you need to do more complcated analysese, you may eventually move to actual python scripts and programming.\n",
    "\n",
    "## Learning Objectives\n",
    "The learning objectives of this tutorial are:\n",
    "1. Become familiar with the fundamentals of Jupyter Notebook and the Python Language.\n",
    "2. Learn the fundamentals of NumPy and Matplotlib\n",
    "3. Place these skills in the context of the plotting a parabola "
   ]
  },
  {
   "cell_type": "markdown",
   "metadata": {},
   "source": [
    "# Imports"
   ]
  },
  {
   "cell_type": "code",
   "execution_count": null,
   "metadata": {},
   "outputs": [],
   "source": [
    "# In this cell, we import the libraries and modules we need for our analysis.\n",
    "# It is good practice to keep all of the imports for a piece of code at the top\n",
    "# of the file. Note that we can import packages \"as\" a particular variable. This\n",
    "# allows us to use a shortcut/abbreviation when refering to that package later\n",
    "# in the script.\n",
    "\n",
    "import numpy as np\n",
    "import matplotlib.pyplot as plt\n",
    "\n",
    "# The following line tells matplotlib to plot directly in the Jupyter Notebook, as\n",
    "# opposed to creating a separate window.\n",
    "%matplotlib inline"
   ]
  },
  {
   "cell_type": "code",
   "execution_count": null,
   "metadata": {},
   "outputs": [],
   "source": [
    "plt.rcParams['font.size']      = 18\n",
    "plt.rcParams['axes.grid']      = True\n",
    "plt.rcParams['axes.xmargin']   = 0\n",
    "plt.rcParams['axes.ymargin']   = 0\n",
    "plt.rcParams['grid.linestyle'] = ':'\n",
    "plt.rcParams['figure.figsize'] = (8,6)"
   ]
  },
  {
   "cell_type": "markdown",
   "metadata": {},
   "source": [
    "# Plotting with NumPy and Matplotlib\n",
    "To introduce NumPy and Matplotlib, we are going to work with something we will all be familiar with: parabolas! "
   ]
  },
  {
   "cell_type": "markdown",
   "metadata": {},
   "source": [
    "## Plotting a parabola\n",
    "To start, we will start with plotting a parabola. While it is not possible for the computer to actually store any type of continuous signal, we can make a plot of what looks like a continuous parabola by making the sampling interval very small. We will compare two different time steps, the first of 1, and the second of .001. "
   ]
  },
  {
   "cell_type": "code",
   "execution_count": null,
   "metadata": {},
   "outputs": [],
   "source": [
    "# Create the list of x-values. \n",
    "# x is a vector/array with step size of .001\n",
    "\n"
   ]
  },
  {
   "cell_type": "code",
   "execution_count": null,
   "metadata": {},
   "outputs": [],
   "source": [
    "# Print out the x-values. Here are the x-values for -50 to 50 in steps of .001\n"
   ]
  },
  {
   "cell_type": "code",
   "execution_count": null,
   "metadata": {},
   "outputs": [],
   "source": [
    "# By the command 'shape' one can determine how many elements are in the array.\n",
    "# If it is multi-dimensional it will also give the number in each dimension. \n",
    "\n"
   ]
  },
  {
   "cell_type": "code",
   "execution_count": null,
   "metadata": {},
   "outputs": [],
   "source": [
    "# Let's plot a parabola. We can define the function in the form y(x) = a*x^2 + b*x + c. \n",
    "\n",
    "\n",
    "# Please note, I am using a general parabola function of the form y(x) =a*x^2 + b*x + c"
   ]
  },
  {
   "cell_type": "markdown",
   "metadata": {},
   "source": [
    "The actual plotting is done below. Note how the axes and tick marks are clearly labeled. You always want your plots to be able to stand on their own. This is not only important for communicating your results to others, but also for yourself. It is easy to build up a collection of many plots in a project and not remember what was actually being plotted because the labels were not done well. "
   ]
  },
  {
   "cell_type": "code",
   "execution_count": null,
   "metadata": {},
   "outputs": [],
   "source": [
    "# Now we want to plot the figure.\n",
    "\n"
   ]
  },
  {
   "cell_type": "markdown",
   "metadata": {},
   "source": [
    "Once you finish, complete these tasks:\n",
    "\n",
    "1. Change axis limits \n",
    "2. Move the legend to the bottom right.\n",
    "3. Plot the same parabola but with step sizes of .1 (in x-value)\n",
    "4. Overlay the smallSteps parabola with the parabola with step sizes of .1\n",
    "5. Plot a different function. y(x) = x^3+2 or another one of your favorite functions.\n",
    "6. Answer the following in a markdown cell using complete sentences: Why does the parabola look so bad when the x step size is 1?"
   ]
  },
  {
   "cell_type": "markdown",
   "metadata": {},
   "source": [
    "1. Change the x limits to -10 to 10 and the y limits to -10 to 10"
   ]
  },
  {
   "cell_type": "code",
   "execution_count": null,
   "metadata": {},
   "outputs": [],
   "source": []
  },
  {
   "cell_type": "markdown",
   "metadata": {},
   "source": [
    "2. Move the legend to the lower right"
   ]
  },
  {
   "cell_type": "code",
   "execution_count": null,
   "metadata": {},
   "outputs": [],
   "source": []
  },
  {
   "cell_type": "markdown",
   "metadata": {},
   "source": [
    "3. Plot the same parabola, but the x-values are in steps of 1."
   ]
  },
  {
   "cell_type": "code",
   "execution_count": null,
   "metadata": {},
   "outputs": [],
   "source": []
  },
  {
   "cell_type": "markdown",
   "metadata": {},
   "source": [
    "4. Overlay the 1.0 step size parabola on top of the 0.01 step size parabola. Use the legend to indicate which is which."
   ]
  },
  {
   "cell_type": "code",
   "execution_count": null,
   "metadata": {},
   "outputs": [],
   "source": []
  },
  {
   "cell_type": "markdown",
   "metadata": {},
   "source": [
    "5. Plot a different function. y(x) = x^3+2 or another one of your favorite functions. Make sure you change the plot title to match your function!"
   ]
  },
  {
   "cell_type": "code",
   "execution_count": null,
   "metadata": {},
   "outputs": [],
   "source": []
  },
  {
   "cell_type": "markdown",
   "metadata": {},
   "source": [
    "6. Answer the following in a markdown cell using complete sentences: Why does the parabola look so bad when the x step size is 1?"
   ]
  },
  {
   "cell_type": "code",
   "execution_count": null,
   "metadata": {},
   "outputs": [],
   "source": []
  },
  {
   "cell_type": "markdown",
   "metadata": {},
   "source": [
    "# Additional Resources\n",
    "* [Matplotlib Gallery](https://matplotlib.org/gallery.html)\n",
    "* [A Quick Guide to LaTeX](https://www.overleaf.com/latex/templates/a-quick-guide-to-latex/fghqpfgnxggz)\n",
    "* Remember that when you don't know how to do something, Google and [StackOverflow](https://stackoverflow.com/) are your friends!"
   ]
  },
  {
   "cell_type": "markdown",
   "metadata": {},
   "source": [
    "# Helpful hints for submitting work (when required)\n",
    "1. When you think you are finished, **do a clean run of the notebook** by going to \"Kernel\" $\\rightarrow$ \"Restart Kernel and Run All Cells\".\n",
    "2. **Double-check the output for any errors!** Doing the clean run may reveal things that you thought were working are actually broken.\n",
    "3. **Save the notebook.**\n",
    "4. **Upload the final `*.ipynb` file to the Brightspace dropbox.** This file is stored locally on your computer. In Jupyter Lab, you can find the file path by right-clicking on the notebook tab and selecting \"Show File in Browser\". Alternatively, you can download a copy of the notebook in your browser by going to \"File\" $\\rightarrow$ \"Download\"."
   ]
  },
  {
   "cell_type": "code",
   "execution_count": null,
   "metadata": {},
   "outputs": [],
   "source": []
  }
 ],
 "metadata": {
  "kernelspec": {
   "display_name": "Python 3",
   "language": "python",
   "name": "python3"
  },
  "language_info": {
   "codemirror_mode": {
    "name": "ipython",
    "version": 3
   },
   "file_extension": ".py",
   "mimetype": "text/x-python",
   "name": "python",
   "nbconvert_exporter": "python",
   "pygments_lexer": "ipython3",
   "version": "3.8.8"
  }
 },
 "nbformat": 4,
 "nbformat_minor": 4
}
